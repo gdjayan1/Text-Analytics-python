{
 "cells": [
  {
   "cell_type": "markdown",
   "metadata": {},
   "source": [
    "<h1 align=\"center\"> $\\color{#800000}{\\text{Text Analysis 2}}$ </h1> \n",
    "<img src=\"index.PNG\">\n"
   ]
  },
  {
   "cell_type": "markdown",
   "metadata": {},
   "source": [
    "### $\\color{green}{\\text{Task}}$ \n"
   ]
  },
  {
   "cell_type": "markdown",
   "metadata": {},
   "source": [
    "* Compare sample1_compare.pdf and sample2_compare.pdf. There are two paragraphs in each of these PDFs. \n",
    "* To find  differences in terms of spelling differences, word differences and/or paragraph differences."
   ]
  },
  {
   "cell_type": "markdown",
   "metadata": {},
   "source": [
    "### $\\color{red}{\\text{1. Import required libraries}}$ \n"
   ]
  },
  {
   "cell_type": "code",
   "execution_count": 1,
   "metadata": {},
   "outputs": [],
   "source": [
    "import textract\n",
    "from nltk.tokenize import sent_tokenize, word_tokenize\n",
    "from spellchecker import SpellChecker"
   ]
  },
  {
   "cell_type": "markdown",
   "metadata": {},
   "source": [
    "### $\\color{brown}{\\text{2. Importance of required libraries}}$ \n",
    " \n",
    "  \n",
    "\n",
    "#### Textract \n",
    "As undesireable as it might be, more often than not there is extremely useful information embedded in Word documents, PowerPoint presentations, PDFs, etc—so-called “dark data”—that would be valuable for further textual analysis and visualization. While several packages exist for extracting content from each of these formats on their own, this package provides a single interface for extracting content from any type of file, without any irrelevant markup.\n",
    "\n",
    "#### NLTK\n",
    "\n",
    "NLTK is a leading platform for building Python programs to work with human language data. It provides easy-to-use interfaces to over 50 corpora and lexical resources such as WordNet, along with a suite of text processing libraries for classification, tokenization, stemming, tagging, parsing, and semantic reasoning, wrappers for industrial-strength NLP libraries, and an active discussion forum.\n",
    "\n",
    "#### Spell Checker\n",
    "\n",
    "It uses a Levenshtein Distance algorithm to find permutations within an edit distance of 2 from the original word. It then compares all permutations (insertions, deletions, replacements, and transpositions) to known words in a word frequency list. Those words that are found more often in the frequency list are more likely the correct results.\n",
    "\n",
    "pyspellchecker supports multiple languages including English, Spanish, German, French, and Portuguese. Dictionaries were generated using the WordFrequency project on GitHub."
   ]
  },
  {
   "cell_type": "markdown",
   "metadata": {},
   "source": [
    "### $\\color{#40826D}{\\text{3. Read two sample documents for comparitive text analysis}}$  \n"
   ]
  },
  {
   "cell_type": "code",
   "execution_count": 2,
   "metadata": {},
   "outputs": [],
   "source": [
    "# The sample pdf files are converted to docx file because of unsupported format and required other libraries \n",
    "# to install. the Errors.ipynb notebook will show the reason for converting pdf to docx file.\n",
    "sample_1 = textract.process('sample1_compare.docx')\n",
    "sample_2 = textract.process('sample2_compare.docx')"
   ]
  },
  {
   "cell_type": "code",
   "execution_count": 3,
   "metadata": {},
   "outputs": [
    {
     "name": "stdout",
     "output_type": "stream",
     "text": [
      "<class 'bytes'> <class 'bytes'>\n"
     ]
    }
   ],
   "source": [
    "# lets check the type of the data.\n",
    "print(type(sample_1),type(sample_2))"
   ]
  },
  {
   "cell_type": "code",
   "execution_count": 5,
   "metadata": {},
   "outputs": [
    {
     "data": {
      "text/plain": [
       "b'Epilepsy PREGABALINE Karomi is used to treat a particular type of epilepsy (partial epileptic seizures with or without secondary generalization) in adults. You must take PREGABALINE Karomi in combination with your current treetment. Your doctor will prescribe PREGABALINE Karomi to help treat your epilepsy whan your current treatment does not completely control your seizures. PREGABALINE Karomi should not be used alone, but should always be used in combination with another antiepileptic drug.\\n\\n\\n\\n\\n\\n\\n\\n\\n\\nPeripheral and central neuropathic pain PREGABALINE Karomi is used to treat persistent pain caused by nerve damage. Different pathologies such as diabetes or shingles can induce peripheral pain pain. Painful manifestations can be described as sensations of heat, burning, throbbing pain, slenderness, stabbing, shooting pain, cramping, soreness, tingling, numbness, sprains and strokes. needle. Peripheral and central neuropathic pain may also be associated with changes in mood, sleep disturbance, fatigue and may impact physical and social functioning, and overall quality of life.'"
      ]
     },
     "execution_count": 5,
     "metadata": {},
     "output_type": "execute_result"
    }
   ],
   "source": [
    "sample_1"
   ]
  },
  {
   "cell_type": "markdown",
   "metadata": {},
   "source": [
    "#### Observation\n",
    "\n",
    "* The data types are in 'bytes' format so it should be converted to string to  do tokenization "
   ]
  },
  {
   "cell_type": "code",
   "execution_count": 6,
   "metadata": {},
   "outputs": [],
   "source": [
    "# To below code is to decode the data \n",
    "sample_1= sample_1.decode(\"utf-8\") \n",
    "sample_2= sample_2.decode(\"utf-8\") "
   ]
  },
  {
   "cell_type": "code",
   "execution_count": 7,
   "metadata": {},
   "outputs": [
    {
     "name": "stdout",
     "output_type": "stream",
     "text": [
      "<class 'str'> <class 'str'>\n"
     ]
    }
   ],
   "source": [
    "# to check the data after decoding \n",
    "print(type(sample_1),type(sample_2))"
   ]
  },
  {
   "cell_type": "code",
   "execution_count": 8,
   "metadata": {},
   "outputs": [
    {
     "data": {
      "text/plain": [
       "'Epilepsy PREGABALINE Karomi is used to treat a particular type of epilepsy (partial epileptic seizures with or without secondary generalization) in adults. You must take PREGABALINE Karomi in combination with your current treetment. Your doctor will prescribe PREGABALINE Karomi to help treat your epilepsy whan your current treatment does not completely control your seizures. PREGABALINE Karomi should not be used alone, but should always be used in combination with another antiepileptic drug.\\n\\n\\n\\n\\n\\n\\n\\n\\n\\nPeripheral and central neuropathic pain PREGABALINE Karomi is used to treat persistent pain caused by nerve damage. Different pathologies such as diabetes or shingles can induce peripheral pain pain. Painful manifestations can be described as sensations of heat, burning, throbbing pain, slenderness, stabbing, shooting pain, cramping, soreness, tingling, numbness, sprains and strokes. needle. Peripheral and central neuropathic pain may also be associated with changes in mood, sleep disturbance, fatigue and may impact physical and social functioning, and overall quality of life.'"
      ]
     },
     "execution_count": 8,
     "metadata": {},
     "output_type": "execute_result"
    }
   ],
   "source": [
    "sample_1"
   ]
  },
  {
   "cell_type": "markdown",
   "metadata": {},
   "source": [
    "#### Observation\n",
    "So now the data are in str format lets proceed to find misspelled words and sentence postion differences"
   ]
  },
  {
   "cell_type": "markdown",
   "metadata": {},
   "source": [
    "<h1 align=\"center\"> $\\color{#800080}{\\text{Word difference}}$ </h1> \n"
   ]
  },
  {
   "cell_type": "code",
   "execution_count": 9,
   "metadata": {},
   "outputs": [
    {
     "name": "stdout",
     "output_type": "stream",
     "text": [
      "['treetment.', 'whan', 'fatigue', 'fatigue,', 'when', 'treatment.']\n"
     ]
    }
   ],
   "source": [
    "# The function to find the different words from two documents\n",
    "def word_diff(sample1,sample2):\n",
    "    count = {} \n",
    "    # insert the sting of sample1 to hash\n",
    "    for word in sample1.split(): \n",
    "        count[word] = count.get(word, 0) + 1\n",
    "    # insert the sting of sample2 to hash\n",
    "    for word in sample2.split(): \n",
    "        count[word] = count.get(word, 0) + 1\n",
    "    # return the required list of words\n",
    "    return [word for word in count if count[word] == 1] \n",
    "\n",
    "print(word_diff(sample_1, sample_2)) \n",
    "\n"
   ]
  },
  {
   "cell_type": "markdown",
   "metadata": {},
   "source": [
    "#### Observation \n",
    "* The above words are different in two documents beacuse of misspelled words and punctuation "
   ]
  },
  {
   "cell_type": "markdown",
   "metadata": {},
   "source": [
    "<h1 align=\"center\"> $\\color{green}{\\text{Word Tokenization}}$ </h1> \n"
   ]
  },
  {
   "cell_type": "code",
   "execution_count": 10,
   "metadata": {},
   "outputs": [],
   "source": [
    "# The below code is to tokenize the paragraphs into words \n",
    "sample_1_token=word_tokenize(sample_1)\n",
    "sample_2_token=word_tokenize(sample_2)"
   ]
  },
  {
   "cell_type": "markdown",
   "metadata": {},
   "source": [
    "### $\\color{#00AF6F}{\\text{4. spell check in sample1_compare document}}$  \n"
   ]
  },
  {
   "cell_type": "code",
   "execution_count": 11,
   "metadata": {},
   "outputs": [
    {
     "name": "stdout",
     "output_type": "stream",
     "text": [
      "The misspelled words are {'pregabaline', 'karomi', 'whan', 'antiepileptic', 'treetment'}\n",
      "\n",
      "pregabaline\n",
      "{'pregabaline'}\n",
      "karami\n",
      "{'karoui', 'karami'}\n",
      "what\n",
      "{'wean', 'than', 'khan', 'han', 'when', 'hwan', 'whin', 'wan', 'wuhan', 'wha', 'what', 'woan', 'wham', 'shan', 'bhan', 'chan', 'phan'}\n",
      "antiepileptic\n",
      "{'antiepileptic'}\n",
      "treatment\n",
      "{'treatment'}\n"
     ]
    }
   ],
   "source": [
    "spell = SpellChecker()\n",
    "\n",
    "# To find those words that may be misspelled\n",
    "misspelled = spell.unknown(sample_1_token)\n",
    "# print the number of words which are misspelled\n",
    "print('The misspelled words are' , misspelled)\n",
    "print()\n",
    "\n",
    "for word in misspelled:\n",
    "    # Get the one `most likely` answer\n",
    "    print(spell.correction(word))\n",
    "\n",
    "    # Get a list of `likely` options\n",
    "    print(spell.candidates(word))"
   ]
  },
  {
   "cell_type": "markdown",
   "metadata": {},
   "source": [
    "#### Observation \n",
    "* The word 'pregabaline', 'antiepileptic', 'karomi', are kind of names so it also consider as misspelled words"
   ]
  },
  {
   "cell_type": "markdown",
   "metadata": {},
   "source": [
    "### $\\color{#00006F}{\\text{5. spell check in sample2_compare document}}$  \n"
   ]
  },
  {
   "cell_type": "code",
   "execution_count": 12,
   "metadata": {},
   "outputs": [
    {
     "name": "stdout",
     "output_type": "stream",
     "text": [
      "The misspelled words are {'karomi', 'pregabaline', 'antiepileptic'}\n",
      "\n",
      "karami\n",
      "{'karoui', 'karami'}\n",
      "pregabaline\n",
      "{'pregabaline'}\n",
      "antiepileptic\n",
      "{'antiepileptic'}\n"
     ]
    }
   ],
   "source": [
    "# find those words that may be misspelled\n",
    "misspelled = spell.unknown(sample_2_token)\n",
    "\n",
    "print('The misspelled words are' , misspelled)\n",
    "print()\n",
    "\n",
    "for word in misspelled:\n",
    "    # Get the one `most likely` answer\n",
    "    print(spell.correction(word))\n",
    "\n",
    "    # Get a list of `likely` options\n",
    "    print(spell.candidates(word))"
   ]
  },
  {
   "cell_type": "markdown",
   "metadata": {},
   "source": [
    "<h1 align=\"center\"> $\\color{brown}{\\text{Sentence Tokenization}}$ </h1> \n"
   ]
  },
  {
   "cell_type": "code",
   "execution_count": 13,
   "metadata": {},
   "outputs": [],
   "source": [
    "# The below code is to tokenize the paragraphs into sentence\n",
    "sample_1_sent_token=sent_tokenize(sample_1)\n",
    "sample_2_sent_token=sent_tokenize(sample_2)"
   ]
  },
  {
   "cell_type": "code",
   "execution_count": 14,
   "metadata": {},
   "outputs": [
    {
     "data": {
      "text/plain": [
       "['Epilepsy PREGABALINE Karomi is used to treat a particular type of epilepsy (partial epileptic seizures with or without secondary generalization) in adults.',\n",
       " 'You must take PREGABALINE Karomi in combination with your current treetment.',\n",
       " 'Your doctor will prescribe PREGABALINE Karomi to help treat your epilepsy whan your current treatment does not completely control your seizures.',\n",
       " 'PREGABALINE Karomi should not be used alone, but should always be used in combination with another antiepileptic drug.',\n",
       " 'Peripheral and central neuropathic pain PREGABALINE Karomi is used to treat persistent pain caused by nerve damage.',\n",
       " 'Different pathologies such as diabetes or shingles can induce peripheral pain pain.',\n",
       " 'Painful manifestations can be described as sensations of heat, burning, throbbing pain, slenderness, stabbing, shooting pain, cramping, soreness, tingling, numbness, sprains and strokes.',\n",
       " 'needle.',\n",
       " 'Peripheral and central neuropathic pain may also be associated with changes in mood, sleep disturbance, fatigue and may impact physical and social functioning, and overall quality of life.']"
      ]
     },
     "execution_count": 14,
     "metadata": {},
     "output_type": "execute_result"
    }
   ],
   "source": [
    "# to print tokenized sentence for sample 1\n",
    "sample_1_sent_token"
   ]
  },
  {
   "cell_type": "code",
   "execution_count": 15,
   "metadata": {},
   "outputs": [
    {
     "data": {
      "text/plain": [
       "['Peripheral and central neuropathic pain PREGABALINE Karomi is used to treat persistent pain caused by nerve damage.',\n",
       " 'Different pathologies such as diabetes or shingles can induce peripheral pain pain.',\n",
       " 'Painful manifestations can be described as sensations of heat, burning, throbbing pain, slenderness, stabbing, shooting pain, cramping, soreness, tingling, numbness, sprains and strokes.',\n",
       " 'needle.',\n",
       " 'Peripheral and central neuropathic pain may also be associated with changes in mood, sleep disturbance, fatigue, and may impact physical and social functioning, and overall quality of life.',\n",
       " 'Epilepsy PREGABALINE Karomi is used to treat a particular type of epilepsy (partial epileptic seizures with or without secondary generalization) in adults.',\n",
       " 'Your doctor will prescribe PREGABALINE Karomi to help treat your epilepsy when your current treatment does not completely control your seizures.',\n",
       " 'You must take PREGABALINE Karomi in combination with your current treatment.',\n",
       " 'PREGABALINE Karomi should not be used alone, but should always be used in combination with another antiepileptic drug.']"
      ]
     },
     "execution_count": 15,
     "metadata": {},
     "output_type": "execute_result"
    }
   ],
   "source": [
    "# To print tokenized sentence for sample 2\n",
    "sample_2_sent_token"
   ]
  },
  {
   "cell_type": "code",
   "execution_count": 16,
   "metadata": {},
   "outputs": [
    {
     "name": "stdout",
     "output_type": "stream",
     "text": [
      "<class 'list'> <class 'list'>\n"
     ]
    }
   ],
   "source": [
    "# To check the type of tokenized sentence\n",
    "print(type(sample_2_sent_token),type(sample_1_sent_token))"
   ]
  },
  {
   "cell_type": "markdown",
   "metadata": {},
   "source": [
    "#### Observation\n",
    "* The type of tokenized sentence are list"
   ]
  },
  {
   "cell_type": "code",
   "execution_count": 17,
   "metadata": {},
   "outputs": [
    {
     "name": "stdout",
     "output_type": "stream",
     "text": [
      "9 9\n"
     ]
    }
   ],
   "source": [
    "# To check the lenght of the two documents\n",
    "print(len(sample_2_sent_token),len(sample_1_sent_token))"
   ]
  },
  {
   "cell_type": "markdown",
   "metadata": {},
   "source": [
    "#### Observation\n",
    "* The lenght of two tokenized documents are same as length '9'"
   ]
  },
  {
   "cell_type": "code",
   "execution_count": 18,
   "metadata": {},
   "outputs": [
    {
     "name": "stdout",
     "output_type": "stream",
     "text": [
      "5 Epilepsy PREGABALINE Karomi is used to treat a particular type of epilepsy (partial epileptic seizures with or without secondary generalization) in adults.\n",
      "0 Epilepsy PREGABALINE Karomi is used to treat a particular type of epilepsy (partial epileptic seizures with or without secondary generalization) in adults.\n",
      "\n",
      "-----------------------------------------------------------------------------\n",
      "\n",
      "8 PREGABALINE Karomi should not be used alone, but should always be used in combination with another antiepileptic drug.\n",
      "3 PREGABALINE Karomi should not be used alone, but should always be used in combination with another antiepileptic drug.\n",
      "\n",
      "-----------------------------------------------------------------------------\n",
      "\n",
      "0 Peripheral and central neuropathic pain PREGABALINE Karomi is used to treat persistent pain caused by nerve damage.\n",
      "4 Peripheral and central neuropathic pain PREGABALINE Karomi is used to treat persistent pain caused by nerve damage.\n",
      "\n",
      "-----------------------------------------------------------------------------\n",
      "\n",
      "1 Different pathologies such as diabetes or shingles can induce peripheral pain pain.\n",
      "5 Different pathologies such as diabetes or shingles can induce peripheral pain pain.\n",
      "\n",
      "-----------------------------------------------------------------------------\n",
      "\n",
      "2 Painful manifestations can be described as sensations of heat, burning, throbbing pain, slenderness, stabbing, shooting pain, cramping, soreness, tingling, numbness, sprains and strokes.\n",
      "6 Painful manifestations can be described as sensations of heat, burning, throbbing pain, slenderness, stabbing, shooting pain, cramping, soreness, tingling, numbness, sprains and strokes.\n",
      "\n",
      "-----------------------------------------------------------------------------\n",
      "\n",
      "3 needle.\n",
      "7 needle.\n",
      "\n",
      "-----------------------------------------------------------------------------\n",
      "\n"
     ]
    }
   ],
   "source": [
    "# lets check the simillar sentence in two documents and the index of them\n",
    "\n",
    "for sent1 in sample_1_sent_token:\n",
    "    for sent2 in sample_2_sent_token:\n",
    "        if sent1 == sent2:\n",
    "            print( sample_2_sent_token.index(sent2),sent2)\n",
    "            print(sample_1_sent_token.index(sent1),sent1)\n",
    "            print()\n",
    "            print('-----------------------------------------------------------------------------')\n",
    "            print()\n"
   ]
  },
  {
   "cell_type": "markdown",
   "metadata": {},
   "source": [
    "#### Observation \n",
    "* From the two documents 6 sentence are simillar and are misplaced as show in the about output"
   ]
  },
  {
   "cell_type": "code",
   "execution_count": null,
   "metadata": {},
   "outputs": [],
   "source": []
  }
 ],
 "metadata": {
  "kernelspec": {
   "display_name": "Python 3",
   "language": "python",
   "name": "python3"
  },
  "language_info": {
   "codemirror_mode": {
    "name": "ipython",
    "version": 3
   },
   "file_extension": ".py",
   "mimetype": "text/x-python",
   "name": "python",
   "nbconvert_exporter": "python",
   "pygments_lexer": "ipython3",
   "version": "3.7.1"
  }
 },
 "nbformat": 4,
 "nbformat_minor": 2
}
